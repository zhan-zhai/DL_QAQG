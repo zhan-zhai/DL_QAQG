{
 "cells": [
  {
   "cell_type": "code",
   "execution_count": 1,
   "id": "common-subscription",
   "metadata": {},
   "outputs": [],
   "source": [
    "import numpy as np\n",
    "import torch"
   ]
  },
  {
   "cell_type": "code",
   "execution_count": 2,
   "id": "serial-fever",
   "metadata": {},
   "outputs": [],
   "source": [
    "from utils import vector_padding, extract_entity_relation_pair"
   ]
  },
  {
   "cell_type": "markdown",
   "id": "bearing-vault",
   "metadata": {},
   "source": [
    "### 读取数据"
   ]
  },
  {
   "cell_type": "code",
   "execution_count": 3,
   "id": "vocational-cooling",
   "metadata": {},
   "outputs": [
    {
     "name": "stdout",
     "output_type": "stream",
     "text": [
      "(14600,)\n"
     ]
    }
   ],
   "source": [
    "triple_vecs = np.load('./train_triple_vecs.npy', allow_pickle=True)\n",
    "print(triple_vecs.shape)"
   ]
  },
  {
   "cell_type": "code",
   "execution_count": 4,
   "id": "massive-wireless",
   "metadata": {},
   "outputs": [
    {
     "name": "stdout",
     "output_type": "stream",
     "text": [
      "(14600,)\n"
     ]
    }
   ],
   "source": [
    "question_vecs = np.load('./train_question_vecs.npy', allow_pickle=True)\n",
    "print(question_vecs.shape)"
   ]
  },
  {
   "cell_type": "markdown",
   "id": "rational-prescription",
   "metadata": {},
   "source": [
    "### 预处理"
   ]
  },
  {
   "cell_type": "code",
   "execution_count": 5,
   "id": "challenging-structure",
   "metadata": {},
   "outputs": [
    {
     "name": "stdout",
     "output_type": "stream",
     "text": [
      "extracting pairs 14600/14600...Done!\n"
     ]
    }
   ],
   "source": [
    "pvecs = extract_entity_relation_pair(triple_vecs)"
   ]
  },
  {
   "cell_type": "code",
   "execution_count": 6,
   "id": "crude-porter",
   "metadata": {},
   "outputs": [
    {
     "name": "stdout",
     "output_type": "stream",
     "text": [
      "padding vectors  14600/14600...Done!\n"
     ]
    }
   ],
   "source": [
    "qvecs = vector_padding(question_vecs)"
   ]
  },
  {
   "cell_type": "markdown",
   "id": "exotic-secret",
   "metadata": {},
   "source": [
    "### 模型定义"
   ]
  },
  {
   "cell_type": "code",
   "execution_count": 7,
   "id": "architectural-influence",
   "metadata": {},
   "outputs": [],
   "source": [
    "from models.dual_learn import DualTaskQAGSystem"
   ]
  },
  {
   "cell_type": "code",
   "execution_count": 8,
   "id": "killing-ivory",
   "metadata": {},
   "outputs": [],
   "source": [
    "device = torch.device(\"cuda:0\" if torch.cuda.is_available() else \"cpu\")"
   ]
  },
  {
   "cell_type": "code",
   "execution_count": 9,
   "id": "turkish-poverty",
   "metadata": {},
   "outputs": [],
   "source": [
    "net = DualTaskQAGSystem(max_len=qvecs.shape[1], pair_len=pvecs.shape[1], feat_dim=qvecs.shape[-1], max_iter=5,\n",
    "                        QA_d_model=512, QA_n_heads=8, QA_num_layers=3, QA_dim_feedforward=512, QA_dropout=0.1, QA_act='gelu', \n",
    "                        QA_epochs=5, QA_lr=1e-5, QA_weight_l2=1e-12,\n",
    "                        QG_d_model=512, QG_n_heads=8, QG_num_layers=3, QG_dim_feedforward=512, QG_dropout=0.1, QG_act='gelu', \n",
    "                        QG_epochs=5, QG_lr=1e-5, QG_weight_l2=1e-12,\n",
    "                        batch_size=1024, device=device)"
   ]
  },
  {
   "cell_type": "code",
   "execution_count": 10,
   "id": "homeless-station",
   "metadata": {},
   "outputs": [
    {
     "name": "stdout",
     "output_type": "stream",
     "text": [
      "Question vectors shape: torch.Size([14600, 26, 300])\n",
      "Entity-Relation pairs shape: torch.Size([14600, 2, 300])\n",
      "Step:0  question vectors shape: torch.Size([1024, 26, 300]) , pair vectors shape: torch.Size([1024, 2, 300])\n",
      "Step:1  question vectors shape: torch.Size([1024, 26, 300]) , pair vectors shape: torch.Size([1024, 2, 300])\n",
      "Step:2  question vectors shape: torch.Size([1024, 26, 300]) , pair vectors shape: torch.Size([1024, 2, 300])\n",
      "Step:3  question vectors shape: torch.Size([1024, 26, 300]) , pair vectors shape: torch.Size([1024, 2, 300])\n",
      "Step:4  question vectors shape: torch.Size([1024, 26, 300]) , pair vectors shape: torch.Size([1024, 2, 300])\n",
      "Step:5  question vectors shape: torch.Size([1024, 26, 300]) , pair vectors shape: torch.Size([1024, 2, 300])\n",
      "Step:6  question vectors shape: torch.Size([1024, 26, 300]) , pair vectors shape: torch.Size([1024, 2, 300])\n",
      "Step:7  question vectors shape: torch.Size([1024, 26, 300]) , pair vectors shape: torch.Size([1024, 2, 300])\n",
      "Step:8  question vectors shape: torch.Size([1024, 26, 300]) , pair vectors shape: torch.Size([1024, 2, 300])\n",
      "Step:9  question vectors shape: torch.Size([1024, 26, 300]) , pair vectors shape: torch.Size([1024, 2, 300])\n",
      "Step:10  question vectors shape: torch.Size([1024, 26, 300]) , pair vectors shape: torch.Size([1024, 2, 300])\n",
      "Step:11  question vectors shape: torch.Size([1024, 26, 300]) , pair vectors shape: torch.Size([1024, 2, 300])\n",
      "Step:12  question vectors shape: torch.Size([1024, 26, 300]) , pair vectors shape: torch.Size([1024, 2, 300])\n",
      "Step:13  question vectors shape: torch.Size([1024, 26, 300]) , pair vectors shape: torch.Size([1024, 2, 300])\n",
      "Step:14  question vectors shape: torch.Size([264, 26, 300]) , pair vectors shape: torch.Size([264, 2, 300])\n",
      "15 batches in total\n"
     ]
    },
    {
     "data": {
      "text/plain": [
       "(<torch.utils.data.dataloader.DataLoader at 0x7fc1d489ccc0>, 15)"
      ]
     },
     "execution_count": 10,
     "metadata": {},
     "output_type": "execute_result"
    }
   ],
   "source": [
    "net.preprocess_data(qvecs, pvecs)"
   ]
  },
  {
   "cell_type": "markdown",
   "id": "improved-bicycle",
   "metadata": {},
   "source": [
    "### 加载训练好的模型（如果有的话）"
   ]
  },
  {
   "cell_type": "code",
   "execution_count": 11,
   "id": "hungry-empire",
   "metadata": {},
   "outputs": [],
   "source": [
    "net = torch.load(\"./checkpoints/best_QG.net\")"
   ]
  },
  {
   "cell_type": "markdown",
   "id": "immune-religion",
   "metadata": {},
   "source": [
    "### 训练"
   ]
  },
  {
   "cell_type": "code",
   "execution_count": 11,
   "id": "useful-mortality",
   "metadata": {},
   "outputs": [
    {
     "name": "stdout",
     "output_type": "stream",
     "text": [
      "--------------- Iteration 1 ---------------\n",
      "-- trainning QA model --\n",
      "epoch=1, loss=0.172302, time=3.66s per epoch\n",
      "epoch=2, loss=0.138490, time=3.60s per epoch\n",
      "epoch=3, loss=0.126418, time=3.64s per epoch\n",
      "epoch=4, loss=0.119411, time=3.63s per epoch\n",
      "epoch=5, loss=0.114603, time=3.64s per epoch\n",
      "-- trainning QG model --\n",
      "epoch=1, loss=0.538720, time=3.59s per epoch\n",
      "epoch=2, loss=0.441621, time=3.63s per epoch\n",
      "epoch=3, loss=0.410825, time=3.64s per epoch\n",
      "epoch=4, loss=0.389552, time=3.59s per epoch\n",
      "epoch=5, loss=0.367319, time=3.63s per epoch\n",
      "--------------- Iteration 2 ---------------\n",
      "-- trainning QA model --\n",
      "epoch=1, loss=0.113790, time=3.64s per epoch\n",
      "epoch=2, loss=0.109322, time=3.61s per epoch\n",
      "epoch=3, loss=0.106503, time=3.64s per epoch\n",
      "epoch=4, loss=0.104632, time=3.61s per epoch\n",
      "epoch=5, loss=0.103254, time=3.65s per epoch\n",
      "-- trainning QG model --\n",
      "epoch=1, loss=0.491517, time=3.67s per epoch\n",
      "epoch=2, loss=0.420016, time=3.63s per epoch\n",
      "epoch=3, loss=0.395464, time=3.59s per epoch\n",
      "epoch=4, loss=0.376340, time=3.63s per epoch\n",
      "epoch=5, loss=0.360194, time=3.59s per epoch\n",
      "--------------- Iteration 3 ---------------\n",
      "-- trainning QA model --\n",
      "epoch=1, loss=0.104526, time=3.66s per epoch\n",
      "epoch=2, loss=0.103345, time=3.63s per epoch\n",
      "epoch=3, loss=0.102538, time=3.59s per epoch\n",
      "epoch=4, loss=0.101828, time=3.65s per epoch\n",
      "epoch=5, loss=0.101331, time=3.65s per epoch\n",
      "-- trainning QG model --\n",
      "epoch=1, loss=0.434386, time=3.64s per epoch\n",
      "epoch=2, loss=0.400086, time=3.64s per epoch\n",
      "epoch=3, loss=0.378292, time=3.63s per epoch\n",
      "epoch=4, loss=0.364226, time=3.60s per epoch\n",
      "epoch=5, loss=0.351137, time=3.61s per epoch\n",
      "--------------- Iteration 4 ---------------\n",
      "-- trainning QA model --\n",
      "epoch=1, loss=0.104023, time=3.65s per epoch\n",
      "epoch=2, loss=0.103417, time=3.62s per epoch\n",
      "epoch=3, loss=0.102938, time=3.64s per epoch\n",
      "epoch=4, loss=0.102711, time=3.63s per epoch\n",
      "epoch=5, loss=0.102396, time=3.64s per epoch\n",
      "-- trainning QG model --\n",
      "epoch=1, loss=0.384557, time=3.63s per epoch\n",
      "epoch=2, loss=0.366402, time=3.65s per epoch\n",
      "epoch=3, loss=0.355727, time=3.61s per epoch\n",
      "epoch=4, loss=0.347916, time=3.60s per epoch\n",
      "epoch=5, loss=0.340346, time=3.63s per epoch\n",
      "--------------- Iteration 5 ---------------\n",
      "-- trainning QA model --\n",
      "epoch=1, loss=0.103741, time=3.65s per epoch\n",
      "epoch=2, loss=0.103542, time=3.66s per epoch\n",
      "epoch=3, loss=0.103227, time=3.67s per epoch\n",
      "epoch=4, loss=0.103154, time=3.67s per epoch\n",
      "epoch=5, loss=0.102781, time=3.63s per epoch\n",
      "-- trainning QG model --\n",
      "epoch=1, loss=0.358138, time=3.63s per epoch\n",
      "epoch=2, loss=0.344139, time=3.61s per epoch\n",
      "epoch=3, loss=0.337430, time=3.62s per epoch\n",
      "epoch=4, loss=0.332003, time=3.67s per epoch\n",
      "epoch=5, loss=0.325913, time=3.64s per epoch\n"
     ]
    }
   ],
   "source": [
    "loss_QA, loss_QG_en, loss_QG_re = net.train()"
   ]
  },
  {
   "cell_type": "markdown",
   "id": "eleven-flexibility",
   "metadata": {},
   "source": [
    "### 可视化"
   ]
  },
  {
   "cell_type": "code",
   "execution_count": 12,
   "id": "cosmetic-horse",
   "metadata": {},
   "outputs": [],
   "source": [
    "import matplotlib.pyplot as plt"
   ]
  },
  {
   "cell_type": "code",
   "execution_count": 13,
   "id": "broke-rider",
   "metadata": {},
   "outputs": [
    {
     "data": {
      "text/plain": [
       "[<matplotlib.lines.Line2D at 0x7efc8a399240>]"
      ]
     },
     "execution_count": 13,
     "metadata": {},
     "output_type": "execute_result"
    },
    {
     "data": {
      "image/png": "[encoded data removed]",
      "text/plain": [
       "<Figure size 432x288 with 1 Axes>"
      ]
     },
     "metadata": {
      "needs_background": "light"
     },
     "output_type": "display_data"
    }
   ],
   "source": [
    "plt.plot(loss_QA)"
   ]
  },
  {
   "cell_type": "code",
   "execution_count": 14,
   "id": "geological-electricity",
   "metadata": {},
   "outputs": [
    {
     "data": {
      "text/plain": [
       "[<matplotlib.lines.Line2D at 0x7efc8a38da90>]"
      ]
     },
     "execution_count": 14,
     "metadata": {},
     "output_type": "execute_result"
    },
    {
     "data": {
      "image/png": "[encoded data removed]",
      "text/plain": [
       "<Figure size 432x288 with 1 Axes>"
      ]
     },
     "metadata": {
      "needs_background": "light"
     },
     "output_type": "display_data"
    }
   ],
   "source": [
    "plt.plot(loss_QG_en)"
   ]
  },
  {
   "cell_type": "code",
   "execution_count": 15,
   "id": "structural-command",
   "metadata": {},
   "outputs": [
    {
     "data": {
      "text/plain": [
       "[<matplotlib.lines.Line2D at 0x7efc8a33c5f8>]"
      ]
     },
     "execution_count": 15,
     "metadata": {},
     "output_type": "execute_result"
    },
    {
     "data": {
      "image/png": "[encoded data removed]",
      "text/plain": [
       "<Figure size 432x288 with 1 Axes>"
      ]
     },
     "metadata": {
      "needs_background": "light"
     },
     "output_type": "display_data"
    }
   ],
   "source": [
    "plt.plot(loss_QG_re)"
   ]
  },
  {
   "cell_type": "markdown",
   "id": "wireless-rebound",
   "metadata": {},
   "source": [
    "### 获取输出向量示例"
   ]
  },
  {
   "cell_type": "code",
   "execution_count": 12,
   "id": "mobile-banana",
   "metadata": {},
   "outputs": [
    {
     "name": "stdout",
     "output_type": "stream",
     "text": [
      "torch.Size([1, 26, 300])\n"
     ]
    }
   ],
   "source": [
    "question = qvecs[100:101, :] # 取一例 注意维度必须为3维\n",
    "print(question.shape)"
   ]
  },
  {
   "cell_type": "code",
   "execution_count": 13,
   "id": "excellent-shipping",
   "metadata": {},
   "outputs": [
    {
     "name": "stdout",
     "output_type": "stream",
     "text": [
      "torch.Size([1, 300]) torch.Size([1, 300])\n"
     ]
    }
   ],
   "source": [
    "ans_entity, ans_relation = net.predict_answer(question) # 输出实体与关系的embedding\n",
    "print(ans_entity.shape, ans_relation.shape)"
   ]
  },
  {
   "cell_type": "code",
   "execution_count": 14,
   "id": "settled-hundred",
   "metadata": {},
   "outputs": [
    {
     "name": "stdout",
     "output_type": "stream",
     "text": [
      "torch.Size([1, 2, 300])\n"
     ]
    }
   ],
   "source": [
    "pair = pvecs[50:51, :] # 同样地，必须为三维\n",
    "pair = torch.tensor(pair, dtype=torch.float32)\n",
    "print(pair.shape)"
   ]
  },
  {
   "cell_type": "code",
   "execution_count": 15,
   "id": "changed-output",
   "metadata": {},
   "outputs": [
    {
     "name": "stdout",
     "output_type": "stream",
     "text": [
      "torch.Size([1, 26, 300])\n"
     ]
    }
   ],
   "source": [
    "gen_question = net.generate_question(pair)\n",
    "print(gen_question.shape)"
   ]
  },
  {
   "cell_type": "code",
   "execution_count": null,
   "id": "urban-beatles",
   "metadata": {},
   "outputs": [],
   "source": []
  }
 ],
 "metadata": {
  "kernelspec": {
   "display_name": "Python 3",
   "language": "python",
   "name": "python3"
  },
  "language_info": {
   "codemirror_mode": {
    "name": "ipython",
    "version": 3
   },
   "file_extension": ".py",
   "mimetype": "text/x-python",
   "name": "python",
   "nbconvert_exporter": "python",
   "pygments_lexer": "ipython3",
   "version": "3.6.12"
  }
 },
 "nbformat": 4,
 "nbformat_minor": 5
}

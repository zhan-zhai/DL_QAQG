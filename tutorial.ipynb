{
 "cells": [
  {
   "cell_type": "code",
   "execution_count": 1,
   "id": "atmospheric-characteristic",
   "metadata": {},
   "outputs": [],
   "source": [
    "import numpy as np\n",
    "import torch"
   ]
  },
  {
   "cell_type": "code",
   "execution_count": 2,
   "id": "ignored-swedish",
   "metadata": {},
   "outputs": [],
   "source": [
    "from utils import vector_padding, extract_entity_relation_pair"
   ]
  },
  {
   "cell_type": "markdown",
   "id": "strong-canon",
   "metadata": {},
   "source": [
    "### 读取数据"
   ]
  },
  {
   "cell_type": "code",
   "execution_count": 3,
   "id": "failing-advertiser",
   "metadata": {},
   "outputs": [
    {
     "name": "stdout",
     "output_type": "stream",
     "text": [
      "(14600,)\n"
     ]
    }
   ],
   "source": [
    "triple_vecs = np.load('./train_triple_vecs.npy', allow_pickle=True)\n",
    "print(triple_vecs.shape)"
   ]
  },
  {
   "cell_type": "code",
   "execution_count": 4,
   "id": "dietary-secretary",
   "metadata": {},
   "outputs": [
    {
     "name": "stdout",
     "output_type": "stream",
     "text": [
      "(14600,)\n"
     ]
    }
   ],
   "source": [
    "question_vecs = np.load('./train_question_vecs.npy', allow_pickle=True)\n",
    "print(question_vecs.shape)"
   ]
  },
  {
   "cell_type": "markdown",
   "id": "downtown-drinking",
   "metadata": {},
   "source": [
    "### 预处理"
   ]
  },
  {
   "cell_type": "code",
   "execution_count": 5,
   "id": "inside-lingerie",
   "metadata": {},
   "outputs": [
    {
     "name": "stdout",
     "output_type": "stream",
     "text": [
      "extracting pairs 14600/14600...Done!\n"
     ]
    }
   ],
   "source": [
    "pvecs = extract_entity_relation_pair(triple_vecs)"
   ]
  },
  {
   "cell_type": "code",
   "execution_count": 6,
   "id": "together-diagram",
   "metadata": {},
   "outputs": [
    {
     "name": "stdout",
     "output_type": "stream",
     "text": [
      "padding vectors  14600/14600...Done!\n"
     ]
    }
   ],
   "source": [
    "qvecs = vector_padding(question_vecs)"
   ]
  },
  {
   "cell_type": "markdown",
   "id": "secret-november",
   "metadata": {},
   "source": [
    "### 模型定义"
   ]
  },
  {
   "cell_type": "code",
   "execution_count": 7,
   "id": "congressional-hebrew",
   "metadata": {},
   "outputs": [],
   "source": [
    "from models.dual_learn import DualTaskQAGSystem"
   ]
  },
  {
   "cell_type": "code",
   "execution_count": 8,
   "id": "permanent-washer",
   "metadata": {},
   "outputs": [],
   "source": [
    "device = torch.device(\"cuda:0\" if torch.cuda.is_available() else \"cpu\")"
   ]
  },
  {
   "cell_type": "code",
   "execution_count": 9,
   "id": "standard-mercury",
   "metadata": {},
   "outputs": [],
   "source": [
    "net = DualTaskQAGSystem(max_len=qvecs.shape[1], pair_len=pvecs.shape[1], feat_dim=qvecs.shape[-1], max_iter=40,\n",
    "                        QA_d_model=256, QA_n_heads=8, QA_num_layers=3, QA_dim_feedforward=512, QA_dropout=0.1, QA_act='gelu', \n",
    "                        QA_epochs=5, QA_lr=1e-5, QA_weight_l2=1e-12,\n",
    "                        QG_d_model=128, QG_n_heads=16, QG_num_layers=3, QG_dim_feedforward=256, QG_dropout=0.1, QG_act='gelu', \n",
    "                        QG_epochs=5, QG_lr=1e-5, QG_weight_l2=1e-12,\n",
    "                        batch_size=1024, device=device)"
   ]
  },
  {
   "cell_type": "code",
   "execution_count": 10,
   "id": "green-funeral",
   "metadata": {},
   "outputs": [
    {
     "name": "stdout",
     "output_type": "stream",
     "text": [
      "Question vectors shape: torch.Size([14600, 26, 300])\n",
      "Entity-Relation pairs shape: torch.Size([14600, 2, 300])\n",
      "Step:0  question vectors shape: torch.Size([1024, 26, 300]) , pair vectors shape: torch.Size([1024, 2, 300])\n",
      "Step:1  question vectors shape: torch.Size([1024, 26, 300]) , pair vectors shape: torch.Size([1024, 2, 300])\n",
      "Step:2  question vectors shape: torch.Size([1024, 26, 300]) , pair vectors shape: torch.Size([1024, 2, 300])\n",
      "Step:3  question vectors shape: torch.Size([1024, 26, 300]) , pair vectors shape: torch.Size([1024, 2, 300])\n",
      "Step:4  question vectors shape: torch.Size([1024, 26, 300]) , pair vectors shape: torch.Size([1024, 2, 300])\n",
      "Step:5  question vectors shape: torch.Size([1024, 26, 300]) , pair vectors shape: torch.Size([1024, 2, 300])\n",
      "Step:6  question vectors shape: torch.Size([1024, 26, 300]) , pair vectors shape: torch.Size([1024, 2, 300])\n",
      "Step:7  question vectors shape: torch.Size([1024, 26, 300]) , pair vectors shape: torch.Size([1024, 2, 300])\n",
      "Step:8  question vectors shape: torch.Size([1024, 26, 300]) , pair vectors shape: torch.Size([1024, 2, 300])\n",
      "Step:9  question vectors shape: torch.Size([1024, 26, 300]) , pair vectors shape: torch.Size([1024, 2, 300])\n",
      "Step:10  question vectors shape: torch.Size([1024, 26, 300]) , pair vectors shape: torch.Size([1024, 2, 300])\n",
      "Step:11  question vectors shape: torch.Size([1024, 26, 300]) , pair vectors shape: torch.Size([1024, 2, 300])\n",
      "Step:12  question vectors shape: torch.Size([1024, 26, 300]) , pair vectors shape: torch.Size([1024, 2, 300])\n",
      "Step:13  question vectors shape: torch.Size([1024, 26, 300]) , pair vectors shape: torch.Size([1024, 2, 300])\n",
      "Step:14  question vectors shape: torch.Size([264, 26, 300]) , pair vectors shape: torch.Size([264, 2, 300])\n",
      "15 batches in total\n"
     ]
    },
    {
     "data": {
      "text/plain": [
       "(<torch.utils.data.dataloader.DataLoader at 0x7fe480862dd8>, 15)"
      ]
     },
     "execution_count": 10,
     "metadata": {},
     "output_type": "execute_result"
    }
   ],
   "source": [
    "net.preprocess_data(qvecs, pvecs)"
   ]
  },
  {
   "cell_type": "markdown",
   "id": "preceding-onion",
   "metadata": {},
   "source": [
    "### 加载训练好的模型（如果有的话）"
   ]
  },
  {
   "cell_type": "code",
   "execution_count": 11,
   "id": "tutorial-thursday",
   "metadata": {},
   "outputs": [],
   "source": [
    "#net = torch.load(\"./checkpoints/best_QG.net\")"
   ]
  },
  {
   "cell_type": "markdown",
   "id": "opposite-paradise",
   "metadata": {},
   "source": [
    "### 训练"
   ]
  },
  {
   "cell_type": "code",
   "execution_count": 12,
   "id": "suffering-territory",
   "metadata": {
    "scrolled": true
   },
   "outputs": [
    {
     "name": "stdout",
     "output_type": "stream",
     "text": [
      "--------------- Iteration 1 ---------------\n",
      "-- trainning QA model --\n",
      "epoch=1, loss=0.189807, time=2.78s per epoch\n",
      "epoch=2, loss=0.164956, time=2.79s per epoch\n",
      "epoch=3, loss=0.153148, time=2.75s per epoch\n",
      "epoch=4, loss=0.146227, time=2.76s per epoch\n",
      "epoch=5, loss=0.141807, time=2.83s per epoch\n",
      "-- trainning QG model --\n",
      "epoch=1, loss=0.627353, time=2.81s per epoch\n",
      "epoch=2, loss=0.543759, time=2.82s per epoch\n",
      "epoch=3, loss=0.486872, time=2.86s per epoch\n",
      "epoch=4, loss=0.453294, time=2.84s per epoch\n",
      "epoch=5, loss=0.436688, time=2.84s per epoch\n",
      "--------------- Iteration 2 ---------------\n",
      "-- trainning QA model --\n",
      "epoch=1, loss=0.139047, time=2.81s per epoch\n",
      "epoch=2, loss=0.134933, time=2.64s per epoch\n",
      "epoch=3, loss=0.132388, time=2.83s per epoch\n",
      "epoch=4, loss=0.130681, time=2.79s per epoch\n",
      "epoch=5, loss=0.129158, time=2.79s per epoch\n",
      "-- trainning QG model --\n",
      "epoch=1, loss=0.454965, time=2.84s per epoch\n",
      "epoch=2, loss=0.439791, time=2.79s per epoch\n",
      "epoch=3, loss=0.427625, time=2.82s per epoch\n",
      "epoch=4, loss=0.415900, time=2.82s per epoch\n",
      "epoch=5, loss=0.405194, time=2.82s per epoch\n",
      "--------------- Iteration 3 ---------------\n",
      "-- trainning QA model --\n",
      "epoch=1, loss=0.131771, time=2.85s per epoch\n",
      "epoch=2, loss=0.130262, time=2.79s per epoch\n",
      "epoch=3, loss=0.129149, time=2.76s per epoch\n",
      "epoch=4, loss=0.128374, time=2.77s per epoch\n",
      "epoch=5, loss=0.127749, time=2.83s per epoch\n",
      "-- trainning QG model --\n",
      "epoch=1, loss=0.440137, time=2.83s per epoch\n",
      "epoch=2, loss=0.426946, time=2.81s per epoch\n",
      "epoch=3, loss=0.414302, time=2.90s per epoch\n",
      "epoch=4, loss=0.405444, time=2.90s per epoch\n",
      "epoch=5, loss=0.394054, time=2.70s per epoch\n",
      "--------------- Iteration 4 ---------------\n",
      "-- trainning QA model --\n",
      "epoch=1, loss=0.130480, time=2.79s per epoch\n",
      "epoch=2, loss=0.129555, time=2.82s per epoch\n",
      "epoch=3, loss=0.128929, time=2.80s per epoch\n",
      "epoch=4, loss=0.128143, time=2.79s per epoch\n",
      "epoch=5, loss=0.127622, time=2.79s per epoch\n",
      "-- trainning QG model --\n",
      "epoch=1, loss=0.424284, time=2.78s per epoch\n",
      "epoch=2, loss=0.410479, time=2.86s per epoch\n",
      "epoch=3, loss=0.399415, time=2.79s per epoch\n",
      "epoch=4, loss=0.389592, time=2.84s per epoch\n",
      "epoch=5, loss=0.381391, time=2.85s per epoch\n",
      "--------------- Iteration 5 ---------------\n",
      "-- trainning QA model --\n",
      "epoch=1, loss=0.129918, time=2.78s per epoch\n",
      "epoch=2, loss=0.129113, time=2.79s per epoch\n",
      "epoch=3, loss=0.128636, time=2.77s per epoch\n",
      "epoch=4, loss=0.128105, time=2.83s per epoch\n",
      "epoch=5, loss=0.127886, time=2.80s per epoch\n",
      "-- trainning QG model --\n",
      "epoch=1, loss=0.397211, time=2.82s per epoch\n",
      "epoch=2, loss=0.387300, time=2.79s per epoch\n",
      "epoch=3, loss=0.378131, time=2.90s per epoch\n",
      "epoch=4, loss=0.371093, time=2.79s per epoch\n",
      "epoch=5, loss=0.364971, time=2.83s per epoch\n",
      "--------------- Iteration 6 ---------------\n",
      "-- trainning QA model --\n",
      "epoch=1, loss=0.130137, time=2.76s per epoch\n",
      "epoch=2, loss=0.129661, time=2.83s per epoch\n",
      "epoch=3, loss=0.129202, time=2.65s per epoch\n",
      "epoch=4, loss=0.129032, time=2.78s per epoch\n",
      "epoch=5, loss=0.128888, time=2.82s per epoch\n",
      "-- trainning QG model --\n",
      "epoch=1, loss=0.376210, time=2.92s per epoch\n",
      "epoch=2, loss=0.371555, time=2.80s per epoch\n",
      "epoch=3, loss=0.366037, time=2.83s per epoch\n",
      "epoch=4, loss=0.361030, time=2.84s per epoch\n",
      "epoch=5, loss=0.355490, time=2.85s per epoch\n",
      "--------------- Iteration 7 ---------------\n",
      "-- trainning QA model --\n",
      "epoch=1, loss=0.131037, time=2.81s per epoch\n",
      "epoch=2, loss=0.130659, time=2.79s per epoch\n",
      "epoch=3, loss=0.130541, time=2.85s per epoch\n",
      "epoch=4, loss=0.130380, time=2.82s per epoch\n",
      "epoch=5, loss=0.130286, time=2.76s per epoch\n",
      "-- trainning QG model --\n",
      "epoch=1, loss=0.366292, time=2.77s per epoch\n",
      "epoch=2, loss=0.359553, time=2.79s per epoch\n",
      "epoch=3, loss=0.355372, time=2.85s per epoch\n",
      "epoch=4, loss=0.351366, time=2.84s per epoch\n",
      "epoch=5, loss=0.348468, time=2.81s per epoch\n",
      "--------------- Iteration 8 ---------------\n",
      "-- trainning QA model --\n",
      "epoch=1, loss=0.132328, time=2.81s per epoch\n",
      "epoch=2, loss=0.132038, time=2.88s per epoch\n",
      "epoch=3, loss=0.132077, time=1.53s per epoch\n",
      "epoch=4, loss=0.131849, time=2.76s per epoch\n",
      "epoch=5, loss=0.131734, time=2.81s per epoch\n",
      "-- trainning QG model --\n",
      "epoch=1, loss=0.355038, time=2.86s per epoch\n",
      "epoch=2, loss=0.352852, time=2.82s per epoch\n",
      "epoch=3, loss=0.350215, time=2.80s per epoch\n",
      "epoch=4, loss=0.346136, time=2.79s per epoch\n",
      "epoch=5, loss=0.343014, time=2.59s per epoch\n",
      "--------------- Iteration 9 ---------------\n",
      "-- trainning QA model --\n",
      "epoch=1, loss=0.133458, time=2.82s per epoch\n",
      "epoch=2, loss=0.133300, time=2.79s per epoch\n",
      "epoch=3, loss=0.133160, time=2.77s per epoch\n",
      "epoch=4, loss=0.133125, time=2.77s per epoch\n",
      "epoch=5, loss=0.132816, time=2.75s per epoch\n",
      "-- trainning QG model --\n",
      "epoch=1, loss=0.349568, time=2.81s per epoch\n",
      "epoch=2, loss=0.345796, time=2.83s per epoch\n",
      "epoch=3, loss=0.343945, time=2.83s per epoch\n",
      "epoch=4, loss=0.342825, time=2.80s per epoch\n",
      "epoch=5, loss=0.339963, time=2.90s per epoch\n",
      "--------------- Iteration 10 ---------------\n",
      "-- trainning QA model --\n",
      "epoch=1, loss=0.133878, time=2.79s per epoch\n",
      "epoch=2, loss=0.133816, time=2.86s per epoch\n",
      "epoch=3, loss=0.133644, time=2.86s per epoch\n",
      "epoch=4, loss=0.133647, time=1.54s per epoch\n",
      "epoch=5, loss=0.133527, time=2.75s per epoch\n",
      "-- trainning QG model --\n",
      "epoch=1, loss=0.345528, time=2.79s per epoch\n",
      "epoch=2, loss=0.339736, time=2.86s per epoch\n",
      "epoch=3, loss=0.337042, time=2.88s per epoch\n",
      "epoch=4, loss=0.335187, time=2.81s per epoch\n",
      "epoch=5, loss=0.334614, time=2.78s per epoch\n",
      "--------------- Iteration 11 ---------------\n",
      "-- trainning QA model --\n",
      "epoch=1, loss=0.133955, time=2.79s per epoch\n",
      "epoch=2, loss=0.133925, time=2.69s per epoch\n",
      "epoch=3, loss=0.133811, time=2.80s per epoch\n",
      "epoch=4, loss=0.133752, time=2.80s per epoch\n",
      "epoch=5, loss=0.133426, time=2.79s per epoch\n",
      "-- trainning QG model --\n",
      "epoch=1, loss=0.343296, time=2.88s per epoch\n",
      "epoch=2, loss=0.333842, time=2.82s per epoch\n",
      "epoch=3, loss=0.332242, time=2.81s per epoch\n",
      "epoch=4, loss=0.331843, time=2.85s per epoch\n",
      "epoch=5, loss=0.330205, time=2.83s per epoch\n",
      "--------------- Iteration 12 ---------------\n",
      "-- trainning QA model --\n",
      "epoch=1, loss=0.133628, time=2.85s per epoch\n",
      "epoch=2, loss=0.133596, time=2.81s per epoch\n",
      "epoch=3, loss=0.133573, time=2.83s per epoch\n",
      "epoch=4, loss=0.133290, time=2.83s per epoch\n",
      "epoch=5, loss=0.133184, time=2.77s per epoch\n",
      "-- trainning QG model --\n",
      "epoch=1, loss=0.336896, time=2.81s per epoch\n",
      "epoch=2, loss=0.331569, time=2.82s per epoch\n",
      "epoch=3, loss=0.328995, time=2.83s per epoch\n",
      "epoch=4, loss=0.328113, time=2.82s per epoch\n",
      "epoch=5, loss=0.327333, time=2.83s per epoch\n",
      "--------------- Iteration 13 ---------------\n",
      "-- trainning QA model --\n",
      "epoch=1, loss=0.133415, time=2.82s per epoch\n",
      "epoch=2, loss=0.133253, time=2.85s per epoch\n",
      "epoch=3, loss=0.133025, time=2.78s per epoch\n",
      "epoch=4, loss=0.133056, time=1.52s per epoch\n",
      "epoch=5, loss=0.132864, time=2.75s per epoch\n",
      "-- trainning QG model --\n",
      "epoch=1, loss=0.333198, time=2.81s per epoch\n",
      "epoch=2, loss=0.330533, time=2.83s per epoch\n",
      "epoch=3, loss=0.329525, time=2.83s per epoch\n",
      "epoch=4, loss=0.327414, time=2.80s per epoch\n",
      "epoch=5, loss=0.327266, time=2.86s per epoch\n",
      "--------------- Iteration 14 ---------------\n",
      "-- trainning QA model --\n",
      "epoch=1, loss=0.133015, time=2.84s per epoch\n",
      "epoch=2, loss=0.132951, time=2.80s per epoch\n",
      "epoch=3, loss=0.132825, time=2.78s per epoch\n",
      "epoch=4, loss=0.132547, time=2.78s per epoch\n",
      "epoch=5, loss=0.132520, time=2.83s per epoch\n",
      "-- trainning QG model --\n",
      "epoch=1, loss=0.334392, time=2.80s per epoch\n",
      "epoch=2, loss=0.331924, time=2.79s per epoch\n",
      "epoch=3, loss=0.329989, time=2.83s per epoch\n",
      "epoch=4, loss=0.328621, time=2.84s per epoch\n",
      "epoch=5, loss=0.326420, time=2.79s per epoch\n",
      "--------------- Iteration 15 ---------------\n",
      "-- trainning QA model --\n",
      "epoch=1, loss=0.132841, time=2.76s per epoch\n",
      "epoch=2, loss=0.132651, time=2.76s per epoch\n",
      "epoch=3, loss=0.132519, time=2.83s per epoch\n",
      "epoch=4, loss=0.132468, time=2.81s per epoch\n",
      "epoch=5, loss=0.132388, time=2.78s per epoch\n",
      "-- trainning QG model --\n",
      "epoch=1, loss=0.336766, time=2.84s per epoch\n",
      "epoch=2, loss=0.332717, time=2.82s per epoch\n",
      "epoch=3, loss=0.330314, time=2.78s per epoch\n",
      "epoch=4, loss=0.328100, time=2.82s per epoch\n",
      "epoch=5, loss=0.329957, time=1.55s per epoch\n",
      "--------------- Iteration 16 ---------------\n",
      "-- trainning QA model --\n",
      "epoch=1, loss=0.132524, time=2.77s per epoch\n",
      "epoch=2, loss=0.132474, time=2.79s per epoch\n",
      "epoch=3, loss=0.132158, time=2.80s per epoch\n",
      "epoch=4, loss=0.132245, time=1.52s per epoch\n",
      "epoch=5, loss=0.132122, time=2.78s per epoch\n",
      "-- trainning QG model --\n",
      "epoch=1, loss=0.337135, time=2.80s per epoch\n",
      "epoch=2, loss=0.330146, time=2.86s per epoch\n",
      "epoch=3, loss=0.327877, time=2.81s per epoch\n",
      "epoch=4, loss=0.327702, time=2.78s per epoch\n",
      "epoch=5, loss=0.325440, time=2.85s per epoch\n",
      "--------------- Iteration 17 ---------------\n",
      "-- trainning QA model --\n",
      "epoch=1, loss=0.132151, time=2.79s per epoch\n",
      "epoch=2, loss=0.132194, time=1.53s per epoch\n",
      "epoch=3, loss=0.132089, time=2.74s per epoch\n",
      "epoch=4, loss=0.131988, time=2.79s per epoch\n",
      "epoch=5, loss=0.131962, time=2.81s per epoch\n",
      "-- trainning QG model --\n",
      "epoch=1, loss=0.338243, time=2.90s per epoch\n",
      "epoch=2, loss=0.327676, time=2.84s per epoch\n",
      "epoch=3, loss=0.326356, time=2.82s per epoch\n",
      "epoch=4, loss=0.325309, time=2.77s per epoch\n",
      "epoch=5, loss=0.323907, time=2.84s per epoch\n",
      "--------------- Iteration 18 ---------------\n",
      "-- trainning QA model --\n",
      "epoch=1, loss=0.132060, time=2.83s per epoch\n",
      "epoch=2, loss=0.131956, time=2.81s per epoch\n",
      "epoch=3, loss=0.131842, time=2.78s per epoch\n",
      "epoch=4, loss=0.131849, time=1.53s per epoch\n",
      "epoch=5, loss=0.131780, time=2.79s per epoch\n",
      "-- trainning QG model --\n",
      "epoch=1, loss=0.334152, time=2.76s per epoch\n",
      "epoch=2, loss=0.328102, time=2.84s per epoch\n",
      "epoch=3, loss=0.326000, time=2.82s per epoch\n",
      "epoch=4, loss=0.324632, time=2.82s per epoch\n",
      "epoch=5, loss=0.322386, time=2.79s per epoch\n",
      "--------------- Iteration 19 ---------------\n",
      "-- trainning QA model --\n",
      "epoch=1, loss=0.131943, time=2.84s per epoch\n",
      "epoch=2, loss=0.131902, time=2.82s per epoch\n",
      "epoch=3, loss=0.131874, time=2.79s per epoch\n",
      "epoch=4, loss=0.131801, time=2.83s per epoch\n",
      "epoch=5, loss=0.131774, time=2.82s per epoch\n",
      "-- trainning QG model --\n",
      "epoch=1, loss=0.330079, time=2.82s per epoch\n",
      "epoch=2, loss=0.326905, time=2.83s per epoch\n",
      "epoch=3, loss=0.324101, time=2.81s per epoch\n",
      "epoch=4, loss=0.324282, time=1.53s per epoch\n",
      "epoch=5, loss=0.321661, time=2.89s per epoch\n",
      "--------------- Iteration 20 ---------------\n",
      "-- trainning QA model --\n",
      "epoch=1, loss=0.131957, time=2.78s per epoch\n",
      "epoch=2, loss=0.131956, time=2.77s per epoch\n",
      "epoch=3, loss=0.131812, time=2.84s per epoch\n",
      "epoch=4, loss=0.131885, time=1.52s per epoch\n",
      "epoch=5, loss=0.131891, time=1.50s per epoch\n",
      "-- trainning QG model --\n",
      "epoch=1, loss=0.331776, time=2.78s per epoch\n",
      "epoch=2, loss=0.325695, time=2.82s per epoch\n",
      "epoch=3, loss=0.323225, time=2.84s per epoch\n",
      "epoch=4, loss=0.324623, time=1.52s per epoch\n",
      "epoch=5, loss=0.321793, time=2.82s per epoch\n",
      "--------------- Iteration 21 ---------------\n",
      "-- trainning QA model --\n",
      "epoch=1, loss=0.131984, time=2.79s per epoch\n",
      "epoch=2, loss=0.132048, time=1.52s per epoch\n",
      "epoch=3, loss=0.131878, time=2.78s per epoch\n",
      "epoch=4, loss=0.132010, time=1.52s per epoch\n",
      "epoch=5, loss=0.131828, time=2.76s per epoch\n",
      "-- trainning QG model --\n",
      "epoch=1, loss=0.327491, time=2.86s per epoch\n",
      "epoch=2, loss=0.322623, time=2.86s per epoch\n",
      "epoch=3, loss=0.321352, time=2.84s per epoch\n",
      "epoch=4, loss=0.321300, time=2.80s per epoch\n",
      "epoch=5, loss=0.319761, time=2.85s per epoch\n",
      "--------------- Iteration 22 ---------------\n",
      "-- trainning QA model --\n",
      "epoch=1, loss=0.132020, time=2.85s per epoch\n",
      "epoch=2, loss=0.131987, time=2.78s per epoch\n",
      "epoch=3, loss=0.132084, time=1.53s per epoch\n",
      "epoch=4, loss=0.132019, time=1.50s per epoch\n",
      "epoch=5, loss=0.132158, time=1.53s per epoch\n",
      "-- trainning QG model --\n",
      "epoch=1, loss=0.326804, time=2.81s per epoch\n",
      "epoch=2, loss=0.323327, time=2.77s per epoch\n",
      "epoch=3, loss=0.321861, time=2.67s per epoch\n",
      "epoch=4, loss=0.319866, time=2.83s per epoch\n",
      "epoch=5, loss=0.319862, time=2.81s per epoch\n",
      "--------------- Iteration 23 ---------------\n",
      "-- trainning QA model --\n",
      "epoch=1, loss=0.132131, time=2.78s per epoch\n",
      "epoch=2, loss=0.132154, time=1.50s per epoch\n",
      "epoch=3, loss=0.132110, time=2.82s per epoch\n",
      "epoch=4, loss=0.132098, time=2.80s per epoch\n",
      "epoch=5, loss=0.132077, time=2.79s per epoch\n",
      "-- trainning QG model --\n",
      "epoch=1, loss=0.326746, time=2.81s per epoch\n",
      "epoch=2, loss=0.320957, time=2.83s per epoch\n",
      "epoch=3, loss=0.319899, time=2.82s per epoch\n",
      "epoch=4, loss=0.319237, time=2.83s per epoch\n",
      "epoch=5, loss=0.318991, time=2.81s per epoch\n",
      "--------------- Iteration 24 ---------------\n",
      "-- trainning QA model --\n",
      "epoch=1, loss=0.132123, time=2.86s per epoch\n",
      "epoch=2, loss=0.132133, time=1.54s per epoch\n",
      "epoch=3, loss=0.132039, time=2.75s per epoch\n",
      "epoch=4, loss=0.132232, time=1.53s per epoch\n",
      "epoch=5, loss=0.132186, time=1.49s per epoch\n",
      "-- trainning QG model --\n",
      "epoch=1, loss=0.323298, time=2.80s per epoch\n",
      "epoch=2, loss=0.318232, time=2.85s per epoch\n",
      "epoch=3, loss=0.317151, time=2.81s per epoch\n",
      "epoch=4, loss=0.316818, time=2.80s per epoch\n",
      "epoch=5, loss=0.315241, time=2.81s per epoch\n",
      "--------------- Iteration 25 ---------------\n",
      "-- trainning QA model --\n",
      "epoch=1, loss=0.132128, time=2.87s per epoch\n",
      "epoch=2, loss=0.132209, time=1.52s per epoch\n",
      "epoch=3, loss=0.132042, time=2.77s per epoch\n",
      "epoch=4, loss=0.132154, time=1.52s per epoch\n",
      "epoch=5, loss=0.132091, time=1.50s per epoch\n",
      "-- trainning QG model --\n",
      "epoch=1, loss=0.319190, time=2.80s per epoch\n",
      "epoch=2, loss=0.316951, time=2.84s per epoch\n",
      "epoch=3, loss=0.315064, time=2.74s per epoch\n",
      "epoch=4, loss=0.312149, time=2.83s per epoch\n",
      "epoch=5, loss=0.311501, time=2.80s per epoch\n",
      "--------------- Iteration 26 ---------------\n",
      "-- trainning QA model --\n",
      "epoch=1, loss=0.132297, time=2.93s per epoch\n",
      "epoch=2, loss=0.132195, time=2.76s per epoch\n",
      "epoch=3, loss=0.132346, time=1.53s per epoch\n",
      "epoch=4, loss=0.132194, time=2.79s per epoch\n",
      "epoch=5, loss=0.132190, time=2.78s per epoch\n",
      "-- trainning QG model --\n",
      "epoch=1, loss=0.316436, time=2.84s per epoch\n",
      "epoch=2, loss=0.312111, time=2.80s per epoch\n",
      "epoch=3, loss=0.311903, time=2.83s per epoch\n",
      "epoch=4, loss=0.309542, time=2.83s per epoch\n",
      "epoch=5, loss=0.309251, time=2.85s per epoch\n",
      "--------------- Iteration 27 ---------------\n",
      "-- trainning QA model --\n",
      "epoch=1, loss=0.132275, time=2.80s per epoch\n",
      "epoch=2, loss=0.132303, time=1.53s per epoch\n",
      "epoch=3, loss=0.132189, time=2.80s per epoch\n",
      "epoch=4, loss=0.132268, time=1.52s per epoch\n",
      "epoch=5, loss=0.132355, time=1.50s per epoch\n",
      "-- trainning QG model --\n",
      "epoch=1, loss=0.309934, time=2.77s per epoch\n",
      "epoch=2, loss=0.309438, time=2.81s per epoch\n",
      "epoch=3, loss=0.306973, time=2.80s per epoch\n",
      "epoch=4, loss=0.307142, time=1.52s per epoch\n",
      "epoch=5, loss=0.306095, time=2.79s per epoch\n",
      "--------------- Iteration 28 ---------------\n",
      "-- trainning QA model --\n",
      "epoch=1, loss=0.132274, time=2.83s per epoch\n",
      "epoch=2, loss=0.132301, time=1.52s per epoch\n",
      "epoch=3, loss=0.132261, time=2.87s per epoch\n",
      "epoch=4, loss=0.132382, time=1.51s per epoch\n",
      "epoch=5, loss=0.132257, time=2.79s per epoch\n",
      "-- trainning QG model --\n",
      "epoch=1, loss=0.307635, time=2.82s per epoch\n",
      "epoch=2, loss=0.305422, time=2.84s per epoch\n",
      "epoch=3, loss=0.305079, time=2.86s per epoch\n",
      "epoch=4, loss=0.303415, time=2.80s per epoch\n",
      "epoch=5, loss=0.303309, time=2.79s per epoch\n",
      "--------------- Iteration 29 ---------------\n",
      "-- trainning QA model --\n",
      "epoch=1, loss=0.132395, time=2.86s per epoch\n",
      "epoch=2, loss=0.132314, time=2.79s per epoch\n",
      "epoch=3, loss=0.132294, time=2.79s per epoch\n",
      "epoch=4, loss=0.132409, time=1.53s per epoch\n",
      "epoch=5, loss=0.132397, time=1.48s per epoch\n",
      "-- trainning QG model --\n",
      "epoch=1, loss=0.303474, time=2.82s per epoch\n",
      "epoch=2, loss=0.302198, time=2.81s per epoch\n",
      "epoch=3, loss=0.301669, time=2.82s per epoch\n",
      "epoch=4, loss=0.301568, time=2.84s per epoch\n",
      "epoch=5, loss=0.300772, time=2.83s per epoch\n",
      "--------------- Iteration 30 ---------------\n",
      "-- trainning QA model --\n",
      "epoch=1, loss=0.132365, time=2.91s per epoch\n",
      "epoch=2, loss=0.132357, time=2.81s per epoch\n",
      "epoch=3, loss=0.132423, time=1.53s per epoch\n",
      "epoch=4, loss=0.132327, time=2.81s per epoch\n",
      "epoch=5, loss=0.132394, time=1.52s per epoch\n",
      "-- trainning QG model --\n",
      "epoch=1, loss=0.300611, time=2.80s per epoch\n",
      "epoch=2, loss=0.299952, time=2.81s per epoch\n",
      "epoch=3, loss=0.298643, time=2.81s per epoch\n",
      "epoch=4, loss=0.297322, time=2.81s per epoch\n",
      "epoch=5, loss=0.296296, time=2.80s per epoch\n",
      "--------------- Iteration 31 ---------------\n",
      "-- trainning QA model --\n",
      "epoch=1, loss=0.132402, time=2.81s per epoch\n",
      "epoch=2, loss=0.132404, time=1.52s per epoch\n",
      "epoch=3, loss=0.132381, time=2.81s per epoch\n",
      "epoch=4, loss=0.132349, time=2.80s per epoch\n",
      "epoch=5, loss=0.132468, time=1.53s per epoch\n",
      "-- trainning QG model --\n",
      "epoch=1, loss=0.297725, time=2.85s per epoch\n",
      "epoch=2, loss=0.297860, time=1.56s per epoch\n",
      "epoch=3, loss=0.296161, time=2.69s per epoch\n",
      "epoch=4, loss=0.294919, time=2.81s per epoch\n",
      "epoch=5, loss=0.293011, time=2.85s per epoch\n",
      "--------------- Iteration 32 ---------------\n",
      "-- trainning QA model --\n",
      "epoch=1, loss=0.132418, time=2.81s per epoch\n",
      "epoch=2, loss=0.132348, time=2.84s per epoch\n",
      "epoch=3, loss=0.132340, time=2.81s per epoch\n",
      "epoch=4, loss=0.132386, time=1.53s per epoch\n",
      "epoch=5, loss=0.132439, time=1.51s per epoch\n",
      "-- trainning QG model --\n",
      "epoch=1, loss=0.293314, time=2.82s per epoch\n",
      "epoch=2, loss=0.294476, time=1.53s per epoch\n",
      "epoch=3, loss=0.292733, time=2.79s per epoch\n",
      "epoch=4, loss=0.291710, time=2.83s per epoch\n",
      "epoch=5, loss=0.291980, time=1.55s per epoch\n",
      "--------------- Iteration 33 ---------------\n",
      "-- trainning QA model --\n",
      "epoch=1, loss=0.132323, time=2.79s per epoch\n",
      "epoch=2, loss=0.132363, time=1.53s per epoch\n",
      "epoch=3, loss=0.132391, time=1.49s per epoch\n",
      "epoch=4, loss=0.132318, time=2.80s per epoch\n",
      "epoch=5, loss=0.132297, time=2.81s per epoch\n",
      "-- trainning QG model --\n",
      "epoch=1, loss=0.292633, time=2.80s per epoch\n",
      "epoch=2, loss=0.290735, time=2.87s per epoch\n",
      "epoch=3, loss=0.289710, time=2.82s per epoch\n",
      "epoch=4, loss=0.290608, time=1.52s per epoch\n",
      "epoch=5, loss=0.289281, time=2.79s per epoch\n",
      "--------------- Iteration 34 ---------------\n",
      "-- trainning QA model --\n",
      "epoch=1, loss=0.132408, time=2.80s per epoch\n",
      "epoch=2, loss=0.132411, time=1.53s per epoch\n",
      "epoch=3, loss=0.132394, time=2.81s per epoch\n",
      "epoch=4, loss=0.132230, time=2.81s per epoch\n",
      "epoch=5, loss=0.132404, time=1.51s per epoch\n",
      "-- trainning QG model --\n",
      "epoch=1, loss=0.288987, time=2.78s per epoch\n",
      "epoch=2, loss=0.287378, time=2.84s per epoch\n",
      "epoch=3, loss=0.286433, time=2.88s per epoch\n",
      "epoch=4, loss=0.286018, time=2.76s per epoch\n",
      "epoch=5, loss=0.286872, time=1.54s per epoch\n",
      "--------------- Iteration 35 ---------------\n",
      "-- trainning QA model --\n",
      "epoch=1, loss=0.132267, time=2.76s per epoch\n",
      "epoch=2, loss=0.132348, time=1.52s per epoch\n",
      "epoch=3, loss=0.132408, time=1.48s per epoch\n",
      "epoch=4, loss=0.132356, time=1.48s per epoch\n",
      "epoch=5, loss=0.132416, time=1.49s per epoch\n",
      "-- trainning QG model --\n",
      "epoch=1, loss=0.285719, time=2.74s per epoch\n",
      "epoch=2, loss=0.286239, time=1.53s per epoch\n",
      "epoch=3, loss=0.285100, time=2.76s per epoch\n",
      "epoch=4, loss=0.283870, time=2.85s per epoch\n",
      "epoch=5, loss=0.283164, time=2.81s per epoch\n",
      "--------------- Iteration 36 ---------------\n",
      "-- trainning QA model --\n",
      "epoch=1, loss=0.132386, time=2.80s per epoch\n",
      "epoch=2, loss=0.132407, time=1.52s per epoch\n",
      "epoch=3, loss=0.132484, time=1.51s per epoch\n",
      "epoch=4, loss=0.132353, time=2.79s per epoch\n",
      "epoch=5, loss=0.132360, time=1.52s per epoch\n",
      "-- trainning QG model --\n",
      "epoch=1, loss=0.285046, time=2.81s per epoch\n",
      "epoch=2, loss=0.283583, time=2.87s per epoch\n",
      "epoch=3, loss=0.282740, time=2.82s per epoch\n",
      "epoch=4, loss=0.282857, time=1.55s per epoch\n",
      "epoch=5, loss=0.282769, time=1.52s per epoch\n",
      "--------------- Iteration 37 ---------------\n",
      "-- trainning QA model --\n",
      "epoch=1, loss=0.132372, time=2.79s per epoch\n",
      "epoch=2, loss=0.132324, time=2.75s per epoch\n",
      "epoch=3, loss=0.132298, time=2.82s per epoch\n",
      "epoch=4, loss=0.132358, time=1.55s per epoch\n",
      "epoch=5, loss=0.132230, time=2.80s per epoch\n",
      "-- trainning QG model --\n",
      "epoch=1, loss=0.284826, time=2.85s per epoch\n",
      "epoch=2, loss=0.283253, time=2.82s per epoch\n",
      "epoch=3, loss=0.283380, time=1.55s per epoch\n",
      "epoch=4, loss=0.281132, time=2.74s per epoch\n",
      "epoch=5, loss=0.281793, time=1.54s per epoch\n",
      "--------------- Iteration 38 ---------------\n",
      "-- trainning QA model --\n",
      "epoch=1, loss=0.132333, time=2.74s per epoch\n",
      "epoch=2, loss=0.132166, time=2.82s per epoch\n",
      "epoch=3, loss=0.132218, time=1.53s per epoch\n",
      "epoch=4, loss=0.132186, time=1.51s per epoch\n",
      "epoch=5, loss=0.132028, time=2.79s per epoch\n",
      "-- trainning QG model --\n",
      "epoch=1, loss=0.284003, time=2.83s per epoch\n",
      "epoch=2, loss=0.282914, time=2.85s per epoch\n",
      "epoch=3, loss=0.281364, time=2.92s per epoch\n",
      "epoch=4, loss=0.281015, time=2.81s per epoch\n",
      "epoch=5, loss=0.280311, time=2.84s per epoch\n",
      "--------------- Iteration 39 ---------------\n",
      "-- trainning QA model --\n",
      "epoch=1, loss=0.132088, time=2.81s per epoch\n",
      "epoch=2, loss=0.132030, time=2.79s per epoch\n",
      "epoch=3, loss=0.131916, time=2.82s per epoch\n",
      "epoch=4, loss=0.132006, time=1.52s per epoch\n",
      "epoch=5, loss=0.131779, time=2.80s per epoch\n",
      "-- trainning QG model --\n",
      "epoch=1, loss=0.282768, time=2.85s per epoch\n",
      "epoch=2, loss=0.282179, time=2.72s per epoch\n",
      "epoch=3, loss=0.280917, time=2.81s per epoch\n",
      "epoch=4, loss=0.281767, time=1.54s per epoch\n",
      "epoch=5, loss=0.281014, time=1.54s per epoch\n",
      "--------------- Iteration 40 ---------------\n",
      "-- trainning QA model --\n",
      "epoch=1, loss=0.131815, time=2.83s per epoch\n",
      "epoch=2, loss=0.131752, time=2.80s per epoch\n",
      "epoch=3, loss=0.131634, time=2.84s per epoch\n",
      "epoch=4, loss=0.131635, time=1.51s per epoch\n",
      "epoch=5, loss=0.131631, time=2.73s per epoch\n",
      "-- trainning QG model --\n",
      "epoch=1, loss=0.284719, time=2.84s per epoch\n",
      "epoch=2, loss=0.282422, time=2.81s per epoch\n",
      "epoch=3, loss=0.282406, time=2.82s per epoch\n",
      "epoch=4, loss=0.281431, time=2.82s per epoch\n",
      "epoch=5, loss=0.280025, time=2.84s per epoch\n"
     ]
    }
   ],
   "source": [
    "loss_QA, loss_QG_en, loss_QG_re = net.train()"
   ]
  },
  {
   "cell_type": "code",
   "execution_count": 13,
   "id": "studied-insulin",
   "metadata": {},
   "outputs": [],
   "source": [
    "np.save(\"loss_QA.npy\", loss_QA)\n",
    "np.save(\"loss_QG_en.npy\", loss_QG_en)\n",
    "np.save(\"loss_QG_re.npy\", loss_QG_re)"
   ]
  },
  {
   "cell_type": "code",
   "execution_count": 62,
   "id": "mental-unknown",
   "metadata": {},
   "outputs": [],
   "source": [
    "torch.save(net, \"./checkpoints/dual_net_50_iters.pkt\")"
   ]
  },
  {
   "cell_type": "markdown",
   "id": "tamil-blues",
   "metadata": {},
   "source": [
    "### 可视化"
   ]
  },
  {
   "cell_type": "code",
   "execution_count": 14,
   "id": "amended-computer",
   "metadata": {},
   "outputs": [],
   "source": [
    "import matplotlib.pyplot as plt"
   ]
  },
  {
   "cell_type": "code",
   "execution_count": 15,
   "id": "small-acting",
   "metadata": {},
   "outputs": [
    {
     "data": {
      "text/plain": [
       "[<matplotlib.lines.Line2D at 0x7fe483f119e8>]"
      ]
     },
     "execution_count": 15,
     "metadata": {},
     "output_type": "execute_result"
    },
    {
     "data": {
      "image/png": "[encoded data removed]",
      "text/plain": [
       "<Figure size 432x288 with 1 Axes>"
      ]
     },
     "metadata": {
      "needs_background": "light"
     },
     "output_type": "display_data"
    }
   ],
   "source": [
    "plt.plot(loss_QA)"
   ]
  },
  {
   "cell_type": "code",
   "execution_count": 16,
   "id": "adapted-canberra",
   "metadata": {},
   "outputs": [
    {
     "data": {
      "text/plain": [
       "[<matplotlib.lines.Line2D at 0x7fe483da9358>]"
      ]
     },
     "execution_count": 16,
     "metadata": {},
     "output_type": "execute_result"
    },
    {
     "data": {
      "image/png": "[encoded data removed]",
      "text/plain": [
       "<Figure size 432x288 with 1 Axes>"
      ]
     },
     "metadata": {
      "needs_background": "light"
     },
     "output_type": "display_data"
    }
   ],
   "source": [
    "plt.plot(loss_QG_en)"
   ]
  },
  {
   "cell_type": "code",
   "execution_count": 17,
   "id": "color-chapel",
   "metadata": {},
   "outputs": [
    {
     "data": {
      "text/plain": [
       "[<matplotlib.lines.Line2D at 0x7fe483d69d68>]"
      ]
     },
     "execution_count": 17,
     "metadata": {},
     "output_type": "execute_result"
    },
    {
     "data": {
      "image/png": "[encoded data removed]",
      "text/plain": [
       "<Figure size 432x288 with 1 Axes>"
      ]
     },
     "metadata": {
      "needs_background": "light"
     },
     "output_type": "display_data"
    }
   ],
   "source": [
    "plt.plot(loss_QG_re)"
   ]
  },
  {
   "cell_type": "code",
   "execution_count": 23,
   "id": "fifth-microwave",
   "metadata": {},
   "outputs": [],
   "source": [
    "import seaborn as sns\n",
    "import pandas as pd\n",
    "sns.set_style(\"whitegrid\")"
   ]
  },
  {
   "cell_type": "code",
   "execution_count": 36,
   "id": "blocked-unknown",
   "metadata": {},
   "outputs": [],
   "source": [
    "y_loss = loss_QA + loss_QG_en + loss_QG_re\n",
    "x_epoch = list(np.arange(1, len(loss_QA) + 1, 1)) * 3\n",
    "hue = [\"loss_QA\"] * len(loss_QA) + [\"loss_QG_en\"] * len(loss_QG_en) + [\"loss_QG_re\"] * len(loss_QG_re)\n",
    "df = pd.DataFrame({\"Epoch\": x_epoch,\n",
    "                   \"Loss\": y_loss,\n",
    "                   \"Model\": hue})"
   ]
  },
  {
   "cell_type": "code",
   "execution_count": 34,
   "id": "first-phone",
   "metadata": {},
   "outputs": [
    {
     "data": {
      "text/html": [
       "<div>\n",
       "<style scoped>\n",
       "    .dataframe tbody tr th:only-of-type {\n",
       "        vertical-align: middle;\n",
       "    }\n",
       "\n",
       "    .dataframe tbody tr th {\n",
       "        vertical-align: top;\n",
       "    }\n",
       "\n",
       "    .dataframe thead th {\n",
       "        text-align: right;\n",
       "    }\n",
       "</style>\n",
       "<table border=\"1\" class=\"dataframe\">\n",
       "  <thead>\n",
       "    <tr style=\"text-align: right;\">\n",
       "      <th></th>\n",
       "      <th>Epoch</th>\n",
       "      <th>Loss</th>\n",
       "      <th>hue</th>\n",
       "    </tr>\n",
       "  </thead>\n",
       "  <tbody>\n",
       "    <tr>\n",
       "      <th>0</th>\n",
       "      <td>1</td>\n",
       "      <td>0.189807</td>\n",
       "      <td>loss_QA</td>\n",
       "    </tr>\n",
       "    <tr>\n",
       "      <th>1</th>\n",
       "      <td>2</td>\n",
       "      <td>0.164956</td>\n",
       "      <td>loss_QA</td>\n",
       "    </tr>\n",
       "    <tr>\n",
       "      <th>2</th>\n",
       "      <td>3</td>\n",
       "      <td>0.153148</td>\n",
       "      <td>loss_QA</td>\n",
       "    </tr>\n",
       "    <tr>\n",
       "      <th>3</th>\n",
       "      <td>4</td>\n",
       "      <td>0.146227</td>\n",
       "      <td>loss_QA</td>\n",
       "    </tr>\n",
       "    <tr>\n",
       "      <th>4</th>\n",
       "      <td>5</td>\n",
       "      <td>0.141807</td>\n",
       "      <td>loss_QA</td>\n",
       "    </tr>\n",
       "    <tr>\n",
       "      <th>...</th>\n",
       "      <td>...</td>\n",
       "      <td>...</td>\n",
       "      <td>...</td>\n",
       "    </tr>\n",
       "    <tr>\n",
       "      <th>595</th>\n",
       "      <td>196</td>\n",
       "      <td>0.145354</td>\n",
       "      <td>loss_QG_re</td>\n",
       "    </tr>\n",
       "    <tr>\n",
       "      <th>596</th>\n",
       "      <td>197</td>\n",
       "      <td>0.144639</td>\n",
       "      <td>loss_QG_re</td>\n",
       "    </tr>\n",
       "    <tr>\n",
       "      <th>597</th>\n",
       "      <td>198</td>\n",
       "      <td>0.144322</td>\n",
       "      <td>loss_QG_re</td>\n",
       "    </tr>\n",
       "    <tr>\n",
       "      <th>598</th>\n",
       "      <td>199</td>\n",
       "      <td>0.144232</td>\n",
       "      <td>loss_QG_re</td>\n",
       "    </tr>\n",
       "    <tr>\n",
       "      <th>599</th>\n",
       "      <td>200</td>\n",
       "      <td>0.143418</td>\n",
       "      <td>loss_QG_re</td>\n",
       "    </tr>\n",
       "  </tbody>\n",
       "</table>\n",
       "<p>600 rows × 3 columns</p>\n",
       "</div>"
      ],
      "text/plain": [
       "     Epoch      Loss         hue\n",
       "0        1  0.189807     loss_QA\n",
       "1        2  0.164956     loss_QA\n",
       "2        3  0.153148     loss_QA\n",
       "3        4  0.146227     loss_QA\n",
       "4        5  0.141807     loss_QA\n",
       "..     ...       ...         ...\n",
       "595    196  0.145354  loss_QG_re\n",
       "596    197  0.144639  loss_QG_re\n",
       "597    198  0.144322  loss_QG_re\n",
       "598    199  0.144232  loss_QG_re\n",
       "599    200  0.143418  loss_QG_re\n",
       "\n",
       "[600 rows x 3 columns]"
      ]
     },
     "execution_count": 34,
     "metadata": {},
     "output_type": "execute_result"
    }
   ],
   "source": [
    "df"
   ]
  },
  {
   "cell_type": "code",
   "execution_count": 61,
   "id": "aboriginal-bahamas",
   "metadata": {},
   "outputs": [
    {
     "data": {
      "text/plain": [
       "[]"
      ]
     },
     "execution_count": 61,
     "metadata": {},
     "output_type": "execute_result"
    },
    {
     "data": {
      "image/png": "[encoded data removed]",
      "text/plain": [
       "<Figure size 864x576 with 1 Axes>"
      ]
     },
     "metadata": {},
     "output_type": "display_data"
    }
   ],
   "source": [
    "fontsize=20\n",
    "labelcolor=\"black\"\n",
    "\n",
    "plt.figure(figsize=(12, 8))\n",
    "sns.lineplot(x=\"Epoch\", y=\"Loss\", hue=\"Model\", data=df, linewidth=3)\n",
    "\n",
    "plt.xlabel(\"Epoch\", fontsize=fontsize, color=labelcolor)\n",
    "plt.ylabel(\"Loss\", fontsize=fontsize, color=labelcolor)\n",
    "plt.xticks(size=fontsize)\n",
    "plt.yticks(size=fontsize)\n",
    "plt.legend(prop={'size': fontsize})\n",
    "\n",
    "plt.savefig(\"loss.pdf\", dpi=1200)\n",
    "plt.plot()"
   ]
  },
  {
   "cell_type": "markdown",
   "id": "configured-empire",
   "metadata": {},
   "source": [
    "### 获取输出向量示例"
   ]
  },
  {
   "cell_type": "code",
   "execution_count": 18,
   "id": "threaded-pregnancy",
   "metadata": {},
   "outputs": [
    {
     "name": "stdout",
     "output_type": "stream",
     "text": [
      "torch.Size([1, 26, 300])\n"
     ]
    }
   ],
   "source": [
    "question = qvecs[100:101, :] # 取一例 注意维度必须为3维\n",
    "print(question.shape)"
   ]
  },
  {
   "cell_type": "code",
   "execution_count": 19,
   "id": "southeast-valuable",
   "metadata": {},
   "outputs": [
    {
     "name": "stdout",
     "output_type": "stream",
     "text": [
      "torch.Size([1, 300]) torch.Size([1, 300])\n"
     ]
    }
   ],
   "source": [
    "ans_entity, ans_relation = net.predict_answer(question) # 输出实体与关系的embedding\n",
    "print(ans_entity.shape, ans_relation.shape)"
   ]
  },
  {
   "cell_type": "code",
   "execution_count": 20,
   "id": "funny-tanzania",
   "metadata": {},
   "outputs": [
    {
     "name": "stdout",
     "output_type": "stream",
     "text": [
      "torch.Size([1, 2, 300])\n"
     ]
    }
   ],
   "source": [
    "pair = pvecs[50:51, :] # 同样地，必须为三维\n",
    "pair = torch.tensor(pair, dtype=torch.float32)\n",
    "print(pair.shape)"
   ]
  },
  {
   "cell_type": "code",
   "execution_count": 21,
   "id": "lightweight-monitor",
   "metadata": {},
   "outputs": [
    {
     "name": "stdout",
     "output_type": "stream",
     "text": [
      "torch.Size([1, 26, 300])\n"
     ]
    }
   ],
   "source": [
    "gen_question = net.generate_question(pair)\n",
    "print(gen_question.shape)"
   ]
  },
  {
   "cell_type": "code",
   "execution_count": null,
   "id": "alive-franchise",
   "metadata": {},
   "outputs": [],
   "source": []
  }
 ],
 "metadata": {
  "kernelspec": {
   "display_name": "Python 3",
   "language": "python",
   "name": "python3"
  },
  "language_info": {
   "codemirror_mode": {
    "name": "ipython",
    "version": 3
   },
   "file_extension": ".py",
   "mimetype": "text/x-python",
   "name": "python",
   "nbconvert_exporter": "python",
   "pygments_lexer": "ipython3",
   "version": "3.6.12"
  }
 },
 "nbformat": 4,
 "nbformat_minor": 5
}
